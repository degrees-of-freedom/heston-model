{
 "cells": [
  {
   "cell_type": "code",
   "execution_count": 3,
   "metadata": {},
   "outputs": [],
   "source": [
    "#!/usr/bin/env python\n",
    "# -*- coding: utf-8 -*-\n",
    "\n",
    "\"\"\"\\\n",
    "This module contains classes defining various types of options. \n",
    "These classes inherits methods from the parent class `Instrument`, \n",
    "providing a consistent framework for option instruments.\n",
    "\"\"\"\n",
    "\n",
    "__author__      = None\n",
    "__copyright__   = None\n",
    "\n",
    "\n",
    "import sys\n",
    "sys.path.insert(0,'../src')\n",
    "from instruments.base import Instrument\n",
    "from engines.heston import HestonEngine\n",
    "from engines.blackscholes import BlackScholesEngine\n",
    "from instruments.option import EuropeanVanillaOption, EuropeanVanillaOptions\n",
    "from engines.base import Engine\n",
    "import numpy as np\n",
    "import typing\n",
    "import time\n"
   ]
  },
  {
   "cell_type": "markdown",
   "metadata": {},
   "source": [
    "***Generating the HestonEngine - quote main tool***"
   ]
  },
  {
   "cell_type": "code",
   "execution_count": 4,
   "metadata": {},
   "outputs": [],
   "source": [
    "heston = HestonEngine \\\n",
    "(\n",
    "    theta = 0.0398, kappa = 1.5768, sigma = 0.5751, rho = -0.5711, \n",
    "    v0 = 0.0175, phi= 0.05**2, risk_free_rate = 0.025,  s0 = 100.0\n",
    ")"
   ]
  },
  {
   "cell_type": "code",
   "execution_count": 5,
   "metadata": {},
   "outputs": [],
   "source": [
    "opt_set_1 = [EuropeanVanillaOption(s0=100, strike=k, tau=0.3, flag=-1, v0=0.0175) for k in np.arange(60,220,.15)]\n",
    "opt_set_2 = [EuropeanVanillaOption(s0=100, strike=k, tau=1.3, flag=+1, v0=0.0175) for k in np.arange(60,220,.15)]\n",
    "opt_set_3 = [EuropeanVanillaOption(s0=200, strike=k, tau=1.3, flag=+1, v0=0.0175) for k in np.arange(60,220,.15)]\n"
   ]
  },
  {
   "cell_type": "markdown",
   "metadata": {},
   "source": [
    "***Test: Pricing Options with different strikes***"
   ]
  },
  {
   "cell_type": "code",
   "execution_count": 6,
   "metadata": {},
   "outputs": [],
   "source": [
    "nit: int = 100"
   ]
  },
  {
   "cell_type": "code",
   "execution_count": 7,
   "metadata": {},
   "outputs": [
    {
     "name": "stdout",
     "output_type": "stream",
     "text": [
      "Wed Apr 24 18:38:40 2024: initialized <Instrument.EuropeanVanillaOptions(options=150)>.\n",
      "Wed Apr 24 18:38:45 2024: heston-(k)vectorized completed in 0.05669s, 100 loops.\n",
      "Wed Apr 24 18:38:49 2024: heston-not_vectorized completed in 3.73359s, 1 loops.\n",
      "Wed Apr 24 18:38:49 2024: heston-(k)vectorized resulted 65.86 time(s) faster.\n"
     ]
    }
   ],
   "source": [
    "pool = EuropeanVanillaOptions(opt_set_1[:150])\n",
    "print(f\"{time.ctime()}: initialized {pool}.\")\n",
    "\n",
    "start_00 = time.time()\n",
    "for _ in range(nit): pool.set_npv(heston)\n",
    "end_00 = time.time()\n",
    "elapsed_00 = (end_00 - start_00) / nit\n",
    "print(f\"{time.ctime()}: heston-(k)vectorized completed in {round(elapsed_00, 5)}s, {nit} loops.\")\n",
    "\n",
    "start_01 = time.time()\n",
    "for option in opt_set_1[:150]: option.set_npv(heston)\n",
    "end_01 = time.time()\n",
    "elapsed_01 = end_01 - start_01\n",
    "print(f\"{time.ctime()}: heston-not_vectorized completed in {round(elapsed_01, 5)}s, {1} loops.\")\n",
    "print(f\"{time.ctime()}: heston-(k)vectorized resulted {round(elapsed_01/elapsed_00, 2)} time(s) faster.\")\n"
   ]
  },
  {
   "cell_type": "markdown",
   "metadata": {},
   "source": [
    "***Test: Pricing Options with different strikes/tau***"
   ]
  },
  {
   "cell_type": "code",
   "execution_count": 9,
   "metadata": {},
   "outputs": [
    {
     "name": "stdout",
     "output_type": "stream",
     "text": [
      "Wed Apr 24 18:38:58 2024: initialized <Instrument.EuropeanVanillaOptions(options=150)>.\n",
      "Wed Apr 24 18:38:58 2024: heston-vectorized completed in 0.11102s, 100 loops.\n",
      "Wed Apr 24 18:38:58 2024: heston-(k)vectorized completed in 0.07402s, 100 loops.\n",
      "Wed Apr 24 18:39:03 2024: heston-not_vectorized completed in 4.31857s, 1 loops.\n",
      "Wed Apr 24 18:39:03 2024: heston-(k)vectorized resulted 58.35 time(s) faster.\n",
      "Wed Apr 24 18:39:03 2024: heston-vectorized resulted 38.9 time(s) faster.\n"
     ]
    }
   ],
   "source": [
    "pool = EuropeanVanillaOptions(opt_set_1[:75]+opt_set_2[:75])\n",
    "print(f\"{time.ctime()}: initialized {pool}.\")\n",
    "\n",
    "start_00 = time.time()\n",
    "pool.set_npv(heston)\n",
    "end_00 = time.time()\n",
    "elapsed_00 = end_00 - start_00\n",
    "print(f\"{time.ctime()}: heston-vectorized completed in {round(elapsed_00, 5)}s, {nit} loops.\")\n",
    "\n",
    "pool_1 = EuropeanVanillaOptions(opt_set_1[:75])\n",
    "pool_2 = EuropeanVanillaOptions(opt_set_2[:75])\n",
    "\n",
    "start_01 = time.time()\n",
    "pool_1.set_npv(heston)\n",
    "pool_2.set_npv(heston)\n",
    "end_01 = time.time()\n",
    "elapsed_01 = end_01 - start_01\n",
    "print(f\"{time.ctime()}: heston-(k)vectorized completed in {round(elapsed_01, 5)}s, {nit} loops.\")\n",
    "\n",
    "start_02 = time.time()\n",
    "for option in opt_set_1[:75]+opt_set_2[:75]: option.set_npv(heston)\n",
    "end_02 = time.time()\n",
    "elapsed_02 = end_02 - start_02\n",
    "print(f\"{time.ctime()}: heston-not_vectorized completed in {round(elapsed_02, 5)}s, {1} loops.\")\n",
    "\n",
    "print(f\"{time.ctime()}: heston-(k)vectorized resulted {round(elapsed_02/elapsed_01, 2)} time(s) faster.\")\n",
    "print(f\"{time.ctime()}: heston-vectorized resulted {round(elapsed_02/elapsed_00, 2)} time(s) faster.\")\n"
   ]
  },
  {
   "cell_type": "markdown",
   "metadata": {},
   "source": [
    "***Test: Pricing Options with different strikes/tau/s0***"
   ]
  },
  {
   "cell_type": "code",
   "execution_count": 10,
   "metadata": {},
   "outputs": [
    {
     "name": "stdout",
     "output_type": "stream",
     "text": [
      "Wed Apr 24 18:39:09 2024: initialized <Instrument.EuropeanVanillaOptions(options=150)>.\n",
      "Wed Apr 24 18:39:09 2024: heston-vectorized completed in 0.14702s, 100 loops.\n",
      "Wed Apr 24 18:39:09 2024: heston-(k)vectorized completed in 0.12902s, 100 loops.\n",
      "Wed Apr 24 18:39:13 2024: heston-not_vectorized completed in 4.6536s, 1 loops.\n",
      "Wed Apr 24 18:39:13 2024: heston-(k)vectorized resulted 36.07 time(s) faster.\n",
      "Wed Apr 24 18:39:13 2024: heston-vectorized resulted 31.65 time(s) faster.\n"
     ]
    }
   ],
   "source": [
    "pool = EuropeanVanillaOptions(opt_set_1[:50]+opt_set_2[:50]+opt_set_3[:50])\n",
    "print(f\"{time.ctime()}: initialized {pool}.\")\n",
    "\n",
    "start_00 = time.time()\n",
    "pool.set_npv(heston)\n",
    "end_00 = time.time()\n",
    "elapsed_00 = end_00 - start_00\n",
    "print(f\"{time.ctime()}: heston-vectorized completed in {round(elapsed_00, 5)}s, {nit} loops.\")\n",
    "\n",
    "pool_1 = EuropeanVanillaOptions(opt_set_1[:50])\n",
    "pool_2 = EuropeanVanillaOptions(opt_set_2[:50])\n",
    "pool_3 = EuropeanVanillaOptions(opt_set_3[:50])\n",
    "\n",
    "start_01 = time.time()\n",
    "pool_1.set_npv(heston)\n",
    "pool_2.set_npv(heston)\n",
    "pool_3.set_npv(heston)\n",
    "end_01 = time.time()\n",
    "elapsed_01 = end_01 - start_01\n",
    "print(f\"{time.ctime()}: heston-(k)vectorized completed in {round(elapsed_01, 5)}s, {nit} loops.\")\n",
    "\n",
    "start_02 = time.time()\n",
    "for option in opt_set_1[:50]+opt_set_2[:50]+opt_set_3[:50]: option.set_npv(heston)\n",
    "end_02 = time.time()\n",
    "elapsed_02 = end_02 - start_02\n",
    "print(f\"{time.ctime()}: heston-not_vectorized completed in {round(elapsed_02, 5)}s, {1} loops.\")\n",
    "\n",
    "print(f\"{time.ctime()}: heston-(k)vectorized resulted {round(elapsed_02/elapsed_01, 2)} time(s) faster.\")\n",
    "print(f\"{time.ctime()}: heston-vectorized resulted {round(elapsed_02/elapsed_00, 2)} time(s) faster.\")\n"
   ]
  },
  {
   "cell_type": "markdown",
   "metadata": {},
   "source": [
    "***Generating the BlackScholesEngine - implied_volatility main tool***"
   ]
  },
  {
   "cell_type": "code",
   "execution_count": null,
   "metadata": {},
   "outputs": [],
   "source": [
    "blackscholes = BlackScholesEngine(risk_free_rate = 0.025)"
   ]
  },
  {
   "cell_type": "code",
   "execution_count": 30,
   "metadata": {},
   "outputs": [
    {
     "data": {
      "text/plain": [
       "<Model.BlackScholesEngine(risk_free_rate=0.025, dividend_yield=0.0)>"
      ]
     },
     "execution_count": 30,
     "metadata": {},
     "output_type": "execute_result"
    }
   ],
   "source": [
    "blackscholes"
   ]
  },
  {
   "cell_type": "markdown",
   "metadata": {},
   "source": [
    "***Generating Put Options (EuropeanVanillaOptions)***"
   ]
  },
  {
   "cell_type": "code",
   "execution_count": 33,
   "metadata": {},
   "outputs": [],
   "source": [
    "eu_p_pool = EuropeanVanillaOptions \\\n",
    "(\n",
    "    [EuropeanVanillaOption(s0=100, strike=k, tau=0.3, flag=-1) for k in np.arange(60,220,.5)]\n",
    ")\n"
   ]
  },
  {
   "cell_type": "code",
   "execution_count": 34,
   "metadata": {},
   "outputs": [
    {
     "data": {
      "text/plain": [
       "<Instrument.EuropeanVanillaOptions(options=320)>"
      ]
     },
     "execution_count": 34,
     "metadata": {},
     "output_type": "execute_result"
    }
   ],
   "source": [
    "eu_p_pool"
   ]
  },
  {
   "cell_type": "markdown",
   "metadata": {},
   "source": [
    "***Pricing each option in 'EuropeanVanillaOptions' with HestonEngine (vectorized)*** "
   ]
  },
  {
   "cell_type": "code",
   "execution_count": 39,
   "metadata": {},
   "outputs": [
    {
     "name": "stdout",
     "output_type": "stream",
     "text": [
      "CPU times: total: 62.5 ms\n",
      "Wall time: 57 ms\n"
     ]
    },
    {
     "data": {
      "text/plain": [
       "[<Instrument.EuropeanVanillaOption(s0=100, strike=60.0, tau=0.3, flag='p', sigma=0.0, quote=0.0027934962183024936)>,\n",
       " <Instrument.EuropeanVanillaOption(s0=100, strike=60.5, tau=0.3, flag='p', sigma=0.0, quote=0.0031257771509274335)>,\n",
       " <Instrument.EuropeanVanillaOption(s0=100, strike=61.0, tau=0.3, flag='p', sigma=0.0, quote=0.0034941668964449946)>,\n",
       " <Instrument.EuropeanVanillaOption(s0=100, strike=61.5, tau=0.3, flag='p', sigma=0.0, quote=0.0039022216909430085)>,\n",
       " <Instrument.EuropeanVanillaOption(s0=100, strike=62.0, tau=0.3, flag='p', sigma=0.0, quote=0.004353812096077547)>]"
      ]
     },
     "execution_count": 39,
     "metadata": {},
     "output_type": "execute_result"
    }
   ],
   "source": [
    "%%time\n",
    "eu_p_pool.set_npv(heston)\n",
    "eu_p_pool.options[:5]\n"
   ]
  },
  {
   "cell_type": "markdown",
   "metadata": {},
   "source": [
    "***Inverting each option' quote with BlackScholesEngine to find implied volatility (vectorized)***"
   ]
  },
  {
   "cell_type": "code",
   "execution_count": 40,
   "metadata": {},
   "outputs": [
    {
     "data": {
      "text/plain": [
       "[<Instrument.EuropeanVanillaOption(s0=100, strike=60.0, tau=0.3, flag='p', sigma=0.30019469198741566, quote=0.0027934962183024936)>,\n",
       " <Instrument.EuropeanVanillaOption(s0=100, strike=60.5, tau=0.3, flag='p', sigma=0.298351052564164, quote=0.0031257771509274335)>,\n",
       " <Instrument.EuropeanVanillaOption(s0=100, strike=61.0, tau=0.3, flag='p', sigma=0.29650928442670976, quote=0.0034941668964449946)>,\n",
       " <Instrument.EuropeanVanillaOption(s0=100, strike=61.5, tau=0.3, flag='p', sigma=0.2946691817999799, quote=0.0039022216909430085)>,\n",
       " <Instrument.EuropeanVanillaOption(s0=100, strike=62.0, tau=0.3, flag='p', sigma=0.29283053917428575, quote=0.004353812096077547)>]"
      ]
     },
     "execution_count": 40,
     "metadata": {},
     "output_type": "execute_result"
    }
   ],
   "source": [
    "eu_p_pool.set_sigma(blackscholes)\n",
    "eu_p_pool.options[:5]\n"
   ]
  },
  {
   "cell_type": "markdown",
   "metadata": {},
   "source": [
    "***Ex: Use-case with single option (EuropeanVanillaOption)***"
   ]
  },
  {
   "cell_type": "code",
   "execution_count": 42,
   "metadata": {},
   "outputs": [
    {
     "name": "stdout",
     "output_type": "stream",
     "text": [
      "<Instrument.EuropeanVanillaOption(s0=100, strike=120, tau=1.3, flag='p', sigma=0.0, quote=0.0)>\n",
      "<Instrument.EuropeanVanillaOption(s0=100, strike=120, tau=1.3, flag='p', sigma=0.0, quote=17.83574265948603)>\n",
      "<Instrument.EuropeanVanillaOption(s0=100, strike=120, tau=1.3, flag='p', sigma=0.1421228828564747, quote=17.83574265948603)>\n",
      "CPU times: total: 31.2 ms\n",
      "Wall time: 17 ms\n"
     ]
    }
   ],
   "source": [
    "%%time\n",
    "# generating single european_vanilla_option\n",
    "option = EuropeanVanillaOption(s0=100, strike=120, tau=1.3, flag=-1)\n",
    "print(option)\n",
    "\n",
    "# pricing option with heston_engine\n",
    "option.set_npv(heston)\n",
    "print(option)\n",
    "\n",
    "# attributing implied_volatility inverting heston'quote with black_scholes\n",
    "option.set_sigma(blackscholes)\n",
    "print(option)\n"
   ]
  }
 ],
 "metadata": {
  "kernelspec": {
   "display_name": "Python 3",
   "language": "python",
   "name": "python3"
  },
  "language_info": {
   "codemirror_mode": {
    "name": "ipython",
    "version": 3
   },
   "file_extension": ".py",
   "mimetype": "text/x-python",
   "name": "python",
   "nbconvert_exporter": "python",
   "pygments_lexer": "ipython3",
   "version": "3.10.0"
  }
 },
 "nbformat": 4,
 "nbformat_minor": 2
}
